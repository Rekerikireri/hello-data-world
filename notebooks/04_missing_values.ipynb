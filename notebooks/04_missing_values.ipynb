{
 "cells": [
  {
   "cell_type": "code",
   "execution_count": 3,
   "id": "0df90740",
   "metadata": {},
   "outputs": [
    {
     "name": "stdout",
     "output_type": "stream",
     "text": [
      "OG DataFrame:\n",
      "      Name  Alter    Stadt  Einkommen\n",
      "0    Alice   25.0   Berlin    50000.0\n",
      "1      Bob    NaN  München    60000.0\n",
      "2  Charlie   30.0     None        NaN\n",
      "3     None   22.0  Hamburg    45000.0\n",
      "4      Eve    NaN     Köln    70000.0\n"
     ]
    }
   ],
   "source": [
    "import pandas as pd\n",
    "\n",
    "# Beispiel Daten und mit fehlenden Werten\n",
    "data = {\n",
    "    'Name': ['Alice', 'Bob', 'Charlie', None, 'Eve'],\n",
    "    'Alter': [25, None, 30, 22, None],\n",
    "    'Stadt': ['Berlin', 'München', None, 'Hamburg', 'Köln'],\n",
    "    'Einkommen': [50000, 60000, None, 45000, 70000]\n",
    "}   \n",
    "df = pd.DataFrame(data)\n",
    "print(\"OG DataFrame:\")\n",
    "print(df)\n",
    "\n",
    "# Als CSV-Datei speichern\n",
    "df.to_csv(\"../data/sample_with_missing.csv\", index=False)\n",
    "\n"
   ]
  },
  {
   "cell_type": "code",
   "execution_count": 5,
   "id": "9a689af0",
   "metadata": {},
   "outputs": [
    {
     "name": "stdout",
     "output_type": "stream",
     "text": [
      "Fehlerhafte Werte pro Spalte:\n",
      "Name         1\n",
      "Alter        2\n",
      "Stadt        1\n",
      "Einkommen    1\n",
      "dtype: int64\n",
      "\n",
      "Prozentuale Verteilung der fehlenden Werte:\n",
      "Name         20.0\n",
      "Alter        40.0\n",
      "Stadt        20.0\n",
      "Einkommen    20.0\n",
      "dtype: float64\n",
      "\n",
      "Zeilen mit NaN:\n"
     ]
    },
    {
     "data": {
      "text/html": [
       "<div>\n",
       "<style scoped>\n",
       "    .dataframe tbody tr th:only-of-type {\n",
       "        vertical-align: middle;\n",
       "    }\n",
       "\n",
       "    .dataframe tbody tr th {\n",
       "        vertical-align: top;\n",
       "    }\n",
       "\n",
       "    .dataframe thead th {\n",
       "        text-align: right;\n",
       "    }\n",
       "</style>\n",
       "<table border=\"1\" class=\"dataframe\">\n",
       "  <thead>\n",
       "    <tr style=\"text-align: right;\">\n",
       "      <th></th>\n",
       "      <th>Name</th>\n",
       "      <th>Alter</th>\n",
       "      <th>Stadt</th>\n",
       "      <th>Einkommen</th>\n",
       "    </tr>\n",
       "  </thead>\n",
       "  <tbody>\n",
       "    <tr>\n",
       "      <th>1</th>\n",
       "      <td>Bob</td>\n",
       "      <td>NaN</td>\n",
       "      <td>München</td>\n",
       "      <td>60000.0</td>\n",
       "    </tr>\n",
       "    <tr>\n",
       "      <th>2</th>\n",
       "      <td>Charlie</td>\n",
       "      <td>30.0</td>\n",
       "      <td>None</td>\n",
       "      <td>NaN</td>\n",
       "    </tr>\n",
       "    <tr>\n",
       "      <th>3</th>\n",
       "      <td>None</td>\n",
       "      <td>22.0</td>\n",
       "      <td>Hamburg</td>\n",
       "      <td>45000.0</td>\n",
       "    </tr>\n",
       "    <tr>\n",
       "      <th>4</th>\n",
       "      <td>Eve</td>\n",
       "      <td>NaN</td>\n",
       "      <td>Köln</td>\n",
       "      <td>70000.0</td>\n",
       "    </tr>\n",
       "  </tbody>\n",
       "</table>\n",
       "</div>"
      ],
      "text/plain": [
       "      Name  Alter    Stadt  Einkommen\n",
       "1      Bob    NaN  München    60000.0\n",
       "2  Charlie   30.0     None        NaN\n",
       "3     None   22.0  Hamburg    45000.0\n",
       "4      Eve    NaN     Köln    70000.0"
      ]
     },
     "metadata": {},
     "output_type": "display_data"
    }
   ],
   "source": [
    "# Überblick: Wie viele fehlende Werte gibt es in jeder Spalte?\n",
    "print(\"Fehlerhafte Werte pro Spalte:\")\n",
    "print(df.isnull().sum())\n",
    "\n",
    "#Prozentuale Verteilung der fehlenden Werte\n",
    "print(\"\\nProzentuale Verteilung der fehlenden Werte:\")\n",
    "print(df.isnull().mean() * 100)\n",
    "\n",
    "# Zeilen mit mindestens einem NaN anzeigen\n",
    "print(\"\\nZeilen mit NaN:\")\n",
    "display(df[df.isnull().any(axis=1)])"
   ]
  },
  {
   "cell_type": "code",
   "execution_count": 6,
   "id": "af65d6cd",
   "metadata": {},
   "outputs": [
    {
     "data": {
      "text/html": [
       "<div>\n",
       "<style scoped>\n",
       "    .dataframe tbody tr th:only-of-type {\n",
       "        vertical-align: middle;\n",
       "    }\n",
       "\n",
       "    .dataframe tbody tr th {\n",
       "        vertical-align: top;\n",
       "    }\n",
       "\n",
       "    .dataframe thead th {\n",
       "        text-align: right;\n",
       "    }\n",
       "</style>\n",
       "<table border=\"1\" class=\"dataframe\">\n",
       "  <thead>\n",
       "    <tr style=\"text-align: right;\">\n",
       "      <th></th>\n",
       "      <th>Name</th>\n",
       "      <th>Alter</th>\n",
       "      <th>Stadt</th>\n",
       "      <th>Einkommen</th>\n",
       "    </tr>\n",
       "  </thead>\n",
       "  <tbody>\n",
       "    <tr>\n",
       "      <th>0</th>\n",
       "      <td>Alice</td>\n",
       "      <td>25.000000</td>\n",
       "      <td>Berlin</td>\n",
       "      <td>50000.0</td>\n",
       "    </tr>\n",
       "    <tr>\n",
       "      <th>1</th>\n",
       "      <td>Bob</td>\n",
       "      <td>25.666667</td>\n",
       "      <td>München</td>\n",
       "      <td>60000.0</td>\n",
       "    </tr>\n",
       "    <tr>\n",
       "      <th>3</th>\n",
       "      <td>None</td>\n",
       "      <td>22.000000</td>\n",
       "      <td>Hamburg</td>\n",
       "      <td>45000.0</td>\n",
       "    </tr>\n",
       "    <tr>\n",
       "      <th>4</th>\n",
       "      <td>Eve</td>\n",
       "      <td>25.666667</td>\n",
       "      <td>Köln</td>\n",
       "      <td>70000.0</td>\n",
       "    </tr>\n",
       "  </tbody>\n",
       "</table>\n",
       "</div>"
      ],
      "text/plain": [
       "    Name      Alter    Stadt  Einkommen\n",
       "0  Alice  25.000000   Berlin    50000.0\n",
       "1    Bob  25.666667  München    60000.0\n",
       "3   None  22.000000  Hamburg    45000.0\n",
       "4    Eve  25.666667     Köln    70000.0"
      ]
     },
     "metadata": {},
     "output_type": "display_data"
    }
   ],
   "source": [
    "# Fehlende Alter durch Durchschnitt ersetzen\n",
    "df['Alter'] = df['Alter'].fillna(df['Alter'].mean())\n",
    "\n",
    "# Fehlende Stadt mit Platzhalter\n",
    "df['Stadt'] = df['Stadt'].fillna('Unbekannt')\n",
    "\n",
    "# Zeilen mit fehlendem Einkommen löschen\n",
    "df = df.dropna(subset=['Einkommen'])\n",
    "\n",
    "display(df)"
   ]
  }
 ],
 "metadata": {
  "kernelspec": {
   "display_name": "Python 3",
   "language": "python",
   "name": "python3"
  },
  "language_info": {
   "codemirror_mode": {
    "name": "ipython",
    "version": 3
   },
   "file_extension": ".py",
   "mimetype": "text/x-python",
   "name": "python",
   "nbconvert_exporter": "python",
   "pygments_lexer": "ipython3",
   "version": "3.13.5"
  }
 },
 "nbformat": 4,
 "nbformat_minor": 5
}
